{
 "cells": [
  {
   "cell_type": "markdown",
   "metadata": {},
   "source": [
    "Image enhancement with mathematical operations"
   ]
  },
  {
   "cell_type": "code",
   "execution_count": 1,
   "metadata": {},
   "outputs": [],
   "source": [
    "#imports\n",
    "import os\n",
    "import cv2\n",
    "import numpy as np\n",
    "import matplotlib.pyplot as plt\n",
    "\n",
    "from zipfile import ZipFile\n",
    "from urllib.request import urlretrieve\n",
    "\n",
    "from IPython.display import Image\n",
    "\n",
    "%matplotlib inline"
   ]
  },
  {
   "cell_type": "markdown",
   "metadata": {},
   "source": [
    "Download dataset for exercise"
   ]
  },
  {
   "cell_type": "code",
   "execution_count": 2,
   "metadata": {},
   "outputs": [],
   "source": [
    "def download_and_unzip(url, save_path):\n",
    "    print(f\"Downloading and extracting assests....\", end=\"\")\n",
    "\n",
    "    # Downloading zip file using urllib package.\n",
    "    urlretrieve(url, save_path)\n",
    "\n",
    "    try:\n",
    "        # Extracting zip file using the zipfile package.\n",
    "        with ZipFile(save_path) as z:\n",
    "            # Extract ZIP file contents in the same directory.\n",
    "            z.extractall(os.path.split(save_path)[0])\n",
    "\n",
    "        print(\"Done\")\n",
    "\n",
    "    except Exception as e:\n",
    "        print(\"\\nInvalid file.\", e)"
   ]
  },
  {
   "cell_type": "code",
   "execution_count": 8,
   "metadata": {},
   "outputs": [
    {
     "name": "stdout",
     "output_type": "stream",
     "text": [
      "Downloading and extracting assests...."
     ]
    },
    {
     "ename": "ContentTooShortError",
     "evalue": "<urlopen error retrieval incomplete: got only 1097728 out of 1485163 bytes>",
     "output_type": "error",
     "traceback": [
      "\u001b[0;31m---------------------------------------------------------------------------\u001b[0m",
      "\u001b[0;31mContentTooShortError\u001b[0m                      Traceback (most recent call last)",
      "Cell \u001b[0;32mIn[8], line 7\u001b[0m\n\u001b[1;32m      5\u001b[0m \u001b[39m# Download if assest ZIP does not exists.\u001b[39;00m\n\u001b[1;32m      6\u001b[0m \u001b[39mif\u001b[39;00m \u001b[39mnot\u001b[39;00m os\u001b[39m.\u001b[39mpath\u001b[39m.\u001b[39mexists(asset_zip_path):\n\u001b[0;32m----> 7\u001b[0m     download_and_unzip(URL, asset_zip_path)\n",
      "Cell \u001b[0;32mIn[2], line 5\u001b[0m, in \u001b[0;36mdownload_and_unzip\u001b[0;34m(url, save_path)\u001b[0m\n\u001b[1;32m      2\u001b[0m \u001b[39mprint\u001b[39m(\u001b[39mf\u001b[39m\u001b[39m\"\u001b[39m\u001b[39mDownloading and extracting assests....\u001b[39m\u001b[39m\"\u001b[39m, end\u001b[39m=\u001b[39m\u001b[39m\"\u001b[39m\u001b[39m\"\u001b[39m)\n\u001b[1;32m      4\u001b[0m \u001b[39m# Downloading zip file using urllib package.\u001b[39;00m\n\u001b[0;32m----> 5\u001b[0m urlretrieve(url, save_path)\n\u001b[1;32m      7\u001b[0m \u001b[39mtry\u001b[39;00m:\n\u001b[1;32m      8\u001b[0m     \u001b[39m# Extracting zip file using the zipfile package.\u001b[39;00m\n\u001b[1;32m      9\u001b[0m     \u001b[39mwith\u001b[39;00m ZipFile(save_path) \u001b[39mas\u001b[39;00m z:\n\u001b[1;32m     10\u001b[0m         \u001b[39m# Extract ZIP file contents in the same directory.\u001b[39;00m\n",
      "File \u001b[0;32m~/anaconda3/envs/opencv-env/lib/python3.11/urllib/request.py:280\u001b[0m, in \u001b[0;36murlretrieve\u001b[0;34m(url, filename, reporthook, data)\u001b[0m\n\u001b[1;32m    277\u001b[0m                 reporthook(blocknum, bs, size)\n\u001b[1;32m    279\u001b[0m \u001b[39mif\u001b[39;00m size \u001b[39m>\u001b[39m\u001b[39m=\u001b[39m \u001b[39m0\u001b[39m \u001b[39mand\u001b[39;00m read \u001b[39m<\u001b[39m size:\n\u001b[0;32m--> 280\u001b[0m     \u001b[39mraise\u001b[39;00m ContentTooShortError(\n\u001b[1;32m    281\u001b[0m         \u001b[39m\"\u001b[39m\u001b[39mretrieval incomplete: got only \u001b[39m\u001b[39m%i\u001b[39;00m\u001b[39m out of \u001b[39m\u001b[39m%i\u001b[39;00m\u001b[39m bytes\u001b[39m\u001b[39m\"\u001b[39m\n\u001b[1;32m    282\u001b[0m         \u001b[39m%\u001b[39m (read, size), result)\n\u001b[1;32m    284\u001b[0m \u001b[39mreturn\u001b[39;00m result\n",
      "\u001b[0;31mContentTooShortError\u001b[0m: <urlopen error retrieval incomplete: got only 1097728 out of 1485163 bytes>"
     ]
    }
   ],
   "source": [
    "URL = r\"https://www.dropbox.com/s/0oe92zziik5mwhf/opencv_bootcamp_assets_NB4.zip?dl=1\"\n",
    "\n",
    "asset_zip_path = os.path.join(os.getcwd(),\"dataset\", \"opencv_bootcamp_assets_NB4.zip\")\n",
    "\n",
    "# Download if assest ZIP does not exists.\n",
    "if not os.path.exists(asset_zip_path):\n",
    "    download_and_unzip(URL, asset_zip_path)"
   ]
  },
  {
   "cell_type": "markdown",
   "metadata": {},
   "source": [
    "Read original image"
   ]
  },
  {
   "cell_type": "code",
   "execution_count": 6,
   "metadata": {},
   "outputs": [
    {
     "name": "stderr",
     "output_type": "stream",
     "text": [
      "[ WARN:0@874.550] global loadsave.cpp:248 findDecoder imread_('dataset/New_Zealand_Coast.jpg'): can't open/read file: check file path/integrity\n"
     ]
    },
    {
     "ename": "error",
     "evalue": "OpenCV(4.8.0) /Users/runner/miniforge3/conda-bld/libopencv_1692668230244/work/modules/imgproc/src/color.cpp:182: error: (-215:Assertion failed) !_src.empty() in function 'cvtColor'\n",
     "output_type": "error",
     "traceback": [
      "\u001b[0;31m---------------------------------------------------------------------------\u001b[0m",
      "\u001b[0;31merror\u001b[0m                                     Traceback (most recent call last)",
      "Cell \u001b[0;32mIn[6], line 2\u001b[0m\n\u001b[1;32m      1\u001b[0m img_bgr \u001b[39m=\u001b[39m cv2\u001b[39m.\u001b[39mimread(\u001b[39m\"\u001b[39m\u001b[39mdataset/New_Zealand_Coast.jpg\u001b[39m\u001b[39m\"\u001b[39m, cv2\u001b[39m.\u001b[39mIMREAD_COLOR)\n\u001b[0;32m----> 2\u001b[0m img_rgb \u001b[39m=\u001b[39m cv2\u001b[39m.\u001b[39;49mcvtColor(img_bgr, cv2\u001b[39m.\u001b[39;49mCOLOR_BGR2RGB)\n\u001b[1;32m      4\u001b[0m \u001b[39m# Display 18x18 pixel image.\u001b[39;00m\n\u001b[1;32m      5\u001b[0m Image(filename\u001b[39m=\u001b[39m\u001b[39m\"\u001b[39m\u001b[39mdataset/New_Zealand_Coast.jpg\u001b[39m\u001b[39m\"\u001b[39m)\n",
      "\u001b[0;31merror\u001b[0m: OpenCV(4.8.0) /Users/runner/miniforge3/conda-bld/libopencv_1692668230244/work/modules/imgproc/src/color.cpp:182: error: (-215:Assertion failed) !_src.empty() in function 'cvtColor'\n"
     ]
    }
   ],
   "source": [
    "img_bgr = cv2.imread(\"dataset/New_Zealand_Coast.jpg\", cv2.IMREAD_COLOR)\n",
    "img_rgb = cv2.cvtColor(img_bgr, cv2.COLOR_BGR2RGB)\n",
    "\n",
    "# Display 18x18 pixel image.\n",
    "Image(filename=\"dataset/New_Zealand_Coast.jpg\")"
   ]
  }
 ],
 "metadata": {
  "kernelspec": {
   "display_name": "opencv-env",
   "language": "python",
   "name": "python3"
  },
  "language_info": {
   "codemirror_mode": {
    "name": "ipython",
    "version": 3
   },
   "file_extension": ".py",
   "mimetype": "text/x-python",
   "name": "python",
   "nbconvert_exporter": "python",
   "pygments_lexer": "ipython3",
   "version": "3.11.5"
  },
  "orig_nbformat": 4
 },
 "nbformat": 4,
 "nbformat_minor": 2
}
