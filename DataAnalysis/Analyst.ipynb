{
 "cells": [
  {
   "cell_type": "markdown",
   "metadata": {},
   "source": [
    "# The smart data analysis assistant "
   ]
  },
  {
   "cell_type": "markdown",
   "metadata": {},
   "source": [
    "#### File system and data handling"
   ]
  },
  {
   "cell_type": "code",
   "execution_count": 111,
   "metadata": {},
   "outputs": [],
   "source": [
    "import pathlib as path"
   ]
  },
  {
   "cell_type": "code",
   "execution_count": 114,
   "metadata": {},
   "outputs": [
    {
     "name": "stdout",
     "output_type": "stream",
     "text": [
      "Path datasets already exists\n"
     ]
    }
   ],
   "source": [
    "data = path.Path(\"datasets\")\n",
    "if not data.exists:\n",
    "    data.mkdir(parents=True, exist_ok=True)\n",
    "else :\n",
    "    print(\"Path {} already exists\".format(data))"
   ]
  },
  {
   "cell_type": "markdown",
   "metadata": {},
   "source": [
    "##### Validate input. Returns boolean"
   ]
  },
  {
   "cell_type": "code",
   "execution_count": 5,
   "metadata": {},
   "outputs": [],
   "source": [
    "\n",
    "\n",
    "# read in excel file\n",
    "def validate_file(source):\n",
    "    if path.Path(source).is_file():\n",
    "        if path.Path(source).suffix in [\".csv\",\".xlsx\"]:\n",
    "            print(\"file is valid\")\n",
    "            return True\n",
    "        else:\n",
    "            print(\"unaccepted file format\")\n",
    "            print(path.Path(source).suffix)\n",
    "            return False\n",
    "    else:\n",
    "        print(\"file is invalid\")\n",
    "        return False"
   ]
  },
  {
   "cell_type": "markdown",
   "metadata": {},
   "source": [
    "##### read input. Returns tuple (dataframe/None,source)"
   ]
  },
  {
   "cell_type": "code",
   "execution_count": 115,
   "metadata": {},
   "outputs": [],
   "source": [
    "#read dataset if valid\n",
    "import pandas as pd\n",
    "def read_input(source):\n",
    "    is_valid = validate_file(source)\n",
    "    if is_valid:\n",
    "        if path.Path(source).suffix == \".csv\":\n",
    "            data = pd.read_csv(source)\n",
    "            return (data,source)\n",
    "\n",
    "        elif path.Path(source).suffix == \".xlsx\":\n",
    "            data = pd.read_excel(source)\n",
    "            return (data,source)\n",
    "    return (None,source)"
   ]
  },
  {
   "cell_type": "markdown",
   "metadata": {},
   "source": [
    "##### Test read_input function"
   ]
  },
  {
   "cell_type": "code",
   "execution_count": 116,
   "metadata": {},
   "outputs": [
    {
     "name": "stdout",
     "output_type": "stream",
     "text": [
      "file is invalid\n",
      "Provide file '  ' in ivalid\n"
     ]
    }
   ],
   "source": [
    "#read invalid file\n",
    "res = read_input(\"\")\n",
    "if res[0] is None:\n",
    "    print(\"Provide file ' {} ' in ivalid\".format(res[1]))\n"
   ]
  },
  {
   "cell_type": "code",
   "execution_count": 117,
   "metadata": {},
   "outputs": [
    {
     "name": "stdout",
     "output_type": "stream",
     "text": [
      "file is valid\n",
      "file 'datasets/diabetes-data.csv' is valid\n"
     ]
    }
   ],
   "source": [
    "#read valid file\n",
    "res = read_input(\"datasets/diabetes-data.csv\")\n",
    "print(\"file '{}' is valid\".format(res[1]))"
   ]
  },
  {
   "cell_type": "markdown",
   "metadata": {},
   "source": [
    "##### Grab dataframe as first item in tuple"
   ]
  },
  {
   "cell_type": "code",
   "execution_count": 16,
   "metadata": {},
   "outputs": [],
   "source": [
    "data = res[0]"
   ]
  },
  {
   "cell_type": "markdown",
   "metadata": {},
   "source": [
    "##### Trying to describe data"
   ]
  },
  {
   "cell_type": "code",
   "execution_count": 17,
   "metadata": {},
   "outputs": [
    {
     "data": {
      "text/html": [
       "<div>\n",
       "<style scoped>\n",
       "    .dataframe tbody tr th:only-of-type {\n",
       "        vertical-align: middle;\n",
       "    }\n",
       "\n",
       "    .dataframe tbody tr th {\n",
       "        vertical-align: top;\n",
       "    }\n",
       "\n",
       "    .dataframe thead th {\n",
       "        text-align: right;\n",
       "    }\n",
       "</style>\n",
       "<table border=\"1\" class=\"dataframe\">\n",
       "  <thead>\n",
       "    <tr style=\"text-align: right;\">\n",
       "      <th></th>\n",
       "      <th>AGE</th>\n",
       "      <th>Gender</th>\n",
       "      <th>FPG</th>\n",
       "      <th>HbA1c</th>\n",
       "      <th>Noctouria</th>\n",
       "      <th>Polyuria</th>\n",
       "      <th>Weight_loss</th>\n",
       "      <th>Vomiting</th>\n",
       "      <th>Nausea</th>\n",
       "      <th>Polydipsia</th>\n",
       "      <th>Polyphagia</th>\n",
       "      <th>Headache</th>\n",
       "      <th>BMI</th>\n",
       "      <th>Outcome</th>\n",
       "    </tr>\n",
       "  </thead>\n",
       "  <tbody>\n",
       "    <tr>\n",
       "      <th>0</th>\n",
       "      <td>52</td>\n",
       "      <td>F</td>\n",
       "      <td>7.0</td>\n",
       "      <td>6.7</td>\n",
       "      <td>True</td>\n",
       "      <td>True</td>\n",
       "      <td>True</td>\n",
       "      <td>False</td>\n",
       "      <td>False</td>\n",
       "      <td>False</td>\n",
       "      <td>False</td>\n",
       "      <td>False</td>\n",
       "      <td>31.0</td>\n",
       "      <td>positive</td>\n",
       "    </tr>\n",
       "    <tr>\n",
       "      <th>1</th>\n",
       "      <td>57</td>\n",
       "      <td>M</td>\n",
       "      <td>10.8</td>\n",
       "      <td>8.0</td>\n",
       "      <td>False</td>\n",
       "      <td>False</td>\n",
       "      <td>False</td>\n",
       "      <td>False</td>\n",
       "      <td>False</td>\n",
       "      <td>False</td>\n",
       "      <td>False</td>\n",
       "      <td>False</td>\n",
       "      <td>32.0</td>\n",
       "      <td>positive</td>\n",
       "    </tr>\n",
       "    <tr>\n",
       "      <th>2</th>\n",
       "      <td>56</td>\n",
       "      <td>F</td>\n",
       "      <td>3.6</td>\n",
       "      <td>5.0</td>\n",
       "      <td>False</td>\n",
       "      <td>False</td>\n",
       "      <td>False</td>\n",
       "      <td>False</td>\n",
       "      <td>False</td>\n",
       "      <td>False</td>\n",
       "      <td>False</td>\n",
       "      <td>False</td>\n",
       "      <td>23.0</td>\n",
       "      <td>negative</td>\n",
       "    </tr>\n",
       "    <tr>\n",
       "      <th>3</th>\n",
       "      <td>32</td>\n",
       "      <td>F</td>\n",
       "      <td>7.5</td>\n",
       "      <td>6.8</td>\n",
       "      <td>False</td>\n",
       "      <td>False</td>\n",
       "      <td>False</td>\n",
       "      <td>False</td>\n",
       "      <td>False</td>\n",
       "      <td>False</td>\n",
       "      <td>False</td>\n",
       "      <td>False</td>\n",
       "      <td>31.0</td>\n",
       "      <td>positive</td>\n",
       "    </tr>\n",
       "    <tr>\n",
       "      <th>4</th>\n",
       "      <td>51</td>\n",
       "      <td>M</td>\n",
       "      <td>5.7</td>\n",
       "      <td>6.2</td>\n",
       "      <td>False</td>\n",
       "      <td>False</td>\n",
       "      <td>False</td>\n",
       "      <td>False</td>\n",
       "      <td>False</td>\n",
       "      <td>False</td>\n",
       "      <td>False</td>\n",
       "      <td>False</td>\n",
       "      <td>20.0</td>\n",
       "      <td>negative</td>\n",
       "    </tr>\n",
       "  </tbody>\n",
       "</table>\n",
       "</div>"
      ],
      "text/plain": [
       "   AGE Gender   FPG  HbA1c  Noctouria  Polyuria  Weight_loss  Vomiting  \\\n",
       "0   52      F   7.0    6.7       True      True         True     False   \n",
       "1   57      M  10.8    8.0      False     False        False     False   \n",
       "2   56      F   3.6    5.0      False     False        False     False   \n",
       "3   32      F   7.5    6.8      False     False        False     False   \n",
       "4   51      M   5.7    6.2      False     False        False     False   \n",
       "\n",
       "   Nausea  Polydipsia  Polyphagia  Headache   BMI   Outcome  \n",
       "0   False       False       False     False  31.0  positive  \n",
       "1   False       False       False     False  32.0  positive  \n",
       "2   False       False       False     False  23.0  negative  \n",
       "3   False       False       False     False  31.0  positive  \n",
       "4   False       False       False     False  20.0  negative  "
      ]
     },
     "execution_count": 17,
     "metadata": {},
     "output_type": "execute_result"
    }
   ],
   "source": [
    "# Take a peep at the data\n",
    "data.head()"
   ]
  },
  {
   "cell_type": "code",
   "execution_count": 21,
   "metadata": {},
   "outputs": [
    {
     "data": {
      "text/plain": [
       "(3415, 14)"
      ]
     },
     "execution_count": 21,
     "metadata": {},
     "output_type": "execute_result"
    }
   ],
   "source": [
    "#Get shape of data\n",
    "data.shape"
   ]
  },
  {
   "cell_type": "code",
   "execution_count": 20,
   "metadata": {},
   "outputs": [
    {
     "data": {
      "text/plain": [
       "Index(['AGE', 'Gender', 'FPG', 'HbA1c', 'Noctouria', 'Polyuria', 'Weight_loss',\n",
       "       'Vomiting', 'Nausea', 'Polydipsia', 'Polyphagia', 'Headache', 'BMI',\n",
       "       'Outcome'],\n",
       "      dtype='object')"
      ]
     },
     "execution_count": 20,
     "metadata": {},
     "output_type": "execute_result"
    }
   ],
   "source": [
    "#Get columns\n",
    "data.columns\n",
    "\n",
    "#"
   ]
  },
  {
   "cell_type": "code",
   "execution_count": 28,
   "metadata": {},
   "outputs": [
    {
     "data": {
      "text/plain": [
       "AGE              int64\n",
       "Gender          object\n",
       "FPG            float64\n",
       "HbA1c          float64\n",
       "Noctouria         bool\n",
       "Polyuria          bool\n",
       "Weight_loss       bool\n",
       "Vomiting          bool\n",
       "Nausea            bool\n",
       "Polydipsia        bool\n",
       "Polyphagia        bool\n",
       "Headache          bool\n",
       "BMI            float64\n",
       "Outcome         object\n",
       "dtype: object"
      ]
     },
     "execution_count": 28,
     "metadata": {},
     "output_type": "execute_result"
    }
   ],
   "source": [
    "#Get data types\n",
    "data.dtypes"
   ]
  },
  {
   "cell_type": "code",
   "execution_count": 23,
   "metadata": {},
   "outputs": [
    {
     "data": {
      "text/html": [
       "<div>\n",
       "<style scoped>\n",
       "    .dataframe tbody tr th:only-of-type {\n",
       "        vertical-align: middle;\n",
       "    }\n",
       "\n",
       "    .dataframe tbody tr th {\n",
       "        vertical-align: top;\n",
       "    }\n",
       "\n",
       "    .dataframe thead th {\n",
       "        text-align: right;\n",
       "    }\n",
       "</style>\n",
       "<table border=\"1\" class=\"dataframe\">\n",
       "  <thead>\n",
       "    <tr style=\"text-align: right;\">\n",
       "      <th></th>\n",
       "      <th>AGE</th>\n",
       "      <th>FPG</th>\n",
       "      <th>HbA1c</th>\n",
       "      <th>BMI</th>\n",
       "    </tr>\n",
       "  </thead>\n",
       "  <tbody>\n",
       "    <tr>\n",
       "      <th>0</th>\n",
       "      <td>52</td>\n",
       "      <td>7.0</td>\n",
       "      <td>6.7</td>\n",
       "      <td>31.0</td>\n",
       "    </tr>\n",
       "    <tr>\n",
       "      <th>1</th>\n",
       "      <td>57</td>\n",
       "      <td>10.8</td>\n",
       "      <td>8.0</td>\n",
       "      <td>32.0</td>\n",
       "    </tr>\n",
       "    <tr>\n",
       "      <th>2</th>\n",
       "      <td>56</td>\n",
       "      <td>3.6</td>\n",
       "      <td>5.0</td>\n",
       "      <td>23.0</td>\n",
       "    </tr>\n",
       "    <tr>\n",
       "      <th>3</th>\n",
       "      <td>32</td>\n",
       "      <td>7.5</td>\n",
       "      <td>6.8</td>\n",
       "      <td>31.0</td>\n",
       "    </tr>\n",
       "    <tr>\n",
       "      <th>4</th>\n",
       "      <td>51</td>\n",
       "      <td>5.7</td>\n",
       "      <td>6.2</td>\n",
       "      <td>20.0</td>\n",
       "    </tr>\n",
       "  </tbody>\n",
       "</table>\n",
       "</div>"
      ],
      "text/plain": [
       "   AGE   FPG  HbA1c   BMI\n",
       "0   52   7.0    6.7  31.0\n",
       "1   57  10.8    8.0  32.0\n",
       "2   56   3.6    5.0  23.0\n",
       "3   32   7.5    6.8  31.0\n",
       "4   51   5.7    6.2  20.0"
      ]
     },
     "execution_count": 23,
     "metadata": {},
     "output_type": "execute_result"
    }
   ],
   "source": [
    "# Get numeric fields\n",
    "numeric_data = data.select_dtypes(exclude=['O','bool'])\n",
    "numeric_data.head()"
   ]
  },
  {
   "cell_type": "code",
   "execution_count": 30,
   "metadata": {},
   "outputs": [
    {
     "data": {
      "text/html": [
       "<div>\n",
       "<style scoped>\n",
       "    .dataframe tbody tr th:only-of-type {\n",
       "        vertical-align: middle;\n",
       "    }\n",
       "\n",
       "    .dataframe tbody tr th {\n",
       "        vertical-align: top;\n",
       "    }\n",
       "\n",
       "    .dataframe thead th {\n",
       "        text-align: right;\n",
       "    }\n",
       "</style>\n",
       "<table border=\"1\" class=\"dataframe\">\n",
       "  <thead>\n",
       "    <tr style=\"text-align: right;\">\n",
       "      <th></th>\n",
       "      <th>AGE</th>\n",
       "      <th>FPG</th>\n",
       "      <th>HbA1c</th>\n",
       "      <th>BMI</th>\n",
       "    </tr>\n",
       "  </thead>\n",
       "  <tbody>\n",
       "    <tr>\n",
       "      <th>count</th>\n",
       "      <td>3415.000000</td>\n",
       "      <td>3415.000000</td>\n",
       "      <td>3415.000000</td>\n",
       "      <td>3408.000000</td>\n",
       "    </tr>\n",
       "    <tr>\n",
       "      <th>mean</th>\n",
       "      <td>50.310688</td>\n",
       "      <td>7.314310</td>\n",
       "      <td>6.980700</td>\n",
       "      <td>29.939830</td>\n",
       "    </tr>\n",
       "    <tr>\n",
       "      <th>std</th>\n",
       "      <td>10.772496</td>\n",
       "      <td>2.084517</td>\n",
       "      <td>1.576805</td>\n",
       "      <td>5.082226</td>\n",
       "    </tr>\n",
       "    <tr>\n",
       "      <th>min</th>\n",
       "      <td>5.000000</td>\n",
       "      <td>1.800000</td>\n",
       "      <td>2.300000</td>\n",
       "      <td>0.000000</td>\n",
       "    </tr>\n",
       "    <tr>\n",
       "      <th>25%</th>\n",
       "      <td>44.000000</td>\n",
       "      <td>5.700000</td>\n",
       "      <td>5.900000</td>\n",
       "      <td>25.000000</td>\n",
       "    </tr>\n",
       "    <tr>\n",
       "      <th>50%</th>\n",
       "      <td>52.000000</td>\n",
       "      <td>7.600000</td>\n",
       "      <td>6.900000</td>\n",
       "      <td>31.000000</td>\n",
       "    </tr>\n",
       "    <tr>\n",
       "      <th>75%</th>\n",
       "      <td>56.000000</td>\n",
       "      <td>8.500000</td>\n",
       "      <td>7.900000</td>\n",
       "      <td>34.000000</td>\n",
       "    </tr>\n",
       "    <tr>\n",
       "      <th>max</th>\n",
       "      <td>209.000000</td>\n",
       "      <td>17.600000</td>\n",
       "      <td>14.000000</td>\n",
       "      <td>47.000000</td>\n",
       "    </tr>\n",
       "  </tbody>\n",
       "</table>\n",
       "</div>"
      ],
      "text/plain": [
       "               AGE          FPG        HbA1c          BMI\n",
       "count  3415.000000  3415.000000  3415.000000  3408.000000\n",
       "mean     50.310688     7.314310     6.980700    29.939830\n",
       "std      10.772496     2.084517     1.576805     5.082226\n",
       "min       5.000000     1.800000     2.300000     0.000000\n",
       "25%      44.000000     5.700000     5.900000    25.000000\n",
       "50%      52.000000     7.600000     6.900000    31.000000\n",
       "75%      56.000000     8.500000     7.900000    34.000000\n",
       "max     209.000000    17.600000    14.000000    47.000000"
      ]
     },
     "execution_count": 30,
     "metadata": {},
     "output_type": "execute_result"
    }
   ],
   "source": [
    "# Describe numeric data\n",
    "numeric_data.describe()"
   ]
  },
  {
   "cell_type": "markdown",
   "metadata": {},
   "source": [
    "##### Function to get null value statistics from dataset"
   ]
  },
  {
   "cell_type": "code",
   "execution_count": 120,
   "metadata": {},
   "outputs": [],
   "source": [
    "#What fields have  null values\n",
    "\n",
    "def get_null_stats(data):\n",
    "    \n",
    "    #What is the percentage of these null values \n",
    "    null_fields = get_null_fields(data)[0]\n",
    "    null_fields_names = get_null_fields(data)[1]\n",
    "\n",
    "    for col in null_fields_names:\n",
    "        null_fields[col] = null_fields[col]*100/len(data[col])\n",
    "\n",
    "    return null_fields\n",
    "\n",
    "\n",
    "def get_null_fields(data):\n",
    "    null_stats = data.isnull().sum()\n",
    "    null_fields = null_stats[null_stats>0]\n",
    "    null_fields\n",
    "    #What is the percentage of these null values \n",
    "    null_fields_names = null_fields.index\n",
    "\n",
    "    return (null_fields,null_fields_names)\n"
   ]
  },
  {
   "cell_type": "markdown",
   "metadata": {},
   "source": [
    "##### Get summary and next step suggestions on any null values"
   ]
  },
  {
   "cell_type": "code",
   "execution_count": 121,
   "metadata": {},
   "outputs": [],
   "source": [
    "\n",
    "def print_summary(null_stats):\n",
    "    nulls_exist = len(null_stats) > 0\n",
    "    if nulls_exist:\n",
    "        print(\"dataset has null numeric values\")\n",
    "        print(\"........\")\n",
    "        print(\"summary\")\n",
    "        print(\"...................\")\n",
    "        print(null_stats)\n",
    "        print(\"...................\")\n",
    "        print(\"...................\")\n",
    "        print(\"\"\"Possible actions to take :\n",
    "            1. Drop rows with any missing values\n",
    "            2. Drop columns with miissing values\n",
    "            3. Inpute missing data\n",
    "            \"\"\")\n",
    "    else:\n",
    "        print(\"dataset has no null values\")"
   ]
  },
  {
   "cell_type": "markdown",
   "metadata": {},
   "source": [
    "##### Use functions to get null statistics"
   ]
  },
  {
   "cell_type": "code",
   "execution_count": 105,
   "metadata": {},
   "outputs": [
    {
     "name": "stdout",
     "output_type": "stream",
     "text": [
      "dataset has null numeric values\n",
      "........\n",
      "summary\n",
      "...................\n",
      "BMI    0.204978\n",
      "dtype: float64\n",
      "...................\n",
      "...................\n",
      "Possible actions to take :\n",
      "            1. Drop rows with any missing values\n",
      "            2. Drop columns with miissing values\n",
      "            3. Inpute missing data\n",
      "            \n"
     ]
    },
    {
     "name": "stderr",
     "output_type": "stream",
     "text": [
      "/var/folders/1g/f8q40hm92l30jzph0wdckn8h0000gn/T/ipykernel_21483/1344933681.py:10: FutureWarning: Setting an item of incompatible dtype is deprecated and will raise in a future error of pandas. Value '0.20497803806734993' has dtype incompatible with int64, please explicitly cast to a compatible dtype first.\n",
      "  null_fields[col] = null_fields[col]*100/len(data[col])\n"
     ]
    }
   ],
   "source": [
    "# Get null stats\n",
    "numeric_data_null_stats = get_null_stats(numeric_data)\n",
    "\n",
    "# Print summary based on null stats\n",
    "print_summary(numeric_data_null_stats)"
   ]
  },
  {
   "cell_type": "markdown",
   "metadata": {},
   "source": [
    "##### Define null remover"
   ]
  },
  {
   "cell_type": "code",
   "execution_count": 122,
   "metadata": {},
   "outputs": [],
   "source": [
    "def imputer(columns):\n",
    "    print('impute missing data in colums {}'.format(columns))"
   ]
  },
  {
   "cell_type": "code",
   "execution_count": 123,
   "metadata": {},
   "outputs": [],
   "source": [
    "def null_remover(decision,df,columns=[]):\n",
    "    if decision == \"drop_rows\":\n",
    "       cleaned = df.dropna(axis=0)\n",
    "       \n",
    "       print(\"Dropped {} rows from dataset\".format(len(df)-len(cleaned)))\n",
    "       print(\"...................\")\n",
    "\n",
    "    elif decision == \"drop_cols\":\n",
    "       if len(columns) == 0:\n",
    "           print(\"Please provide a nonempty column list\")\n",
    "           print(\"...................\")\n",
    "\n",
    "       cleaned = df.drop(columns,axis=1)\n",
    "       print(\"Dropped columns {} from dataset\".format(columns))\n",
    "       print(\"...................\")\n",
    "\n",
    "\n",
    "    elif decision == \"inpute\":\n",
    "        imputer(columns)\n",
    "    return cleaned\n"
   ]
  },
  {
   "cell_type": "markdown",
   "metadata": {},
   "source": [
    "##### Use null remover"
   ]
  },
  {
   "cell_type": "code",
   "execution_count": 124,
   "metadata": {},
   "outputs": [
    {
     "name": "stdout",
     "output_type": "stream",
     "text": [
      "Dropped columns Index(['BMI'], dtype='object') from dataset\n",
      "...................\n",
      "AGE      False\n",
      "FPG      False\n",
      "HbA1c    False\n",
      "dtype: bool\n"
     ]
    },
    {
     "data": {
      "text/plain": [
       "(3415, 3)"
      ]
     },
     "execution_count": 124,
     "metadata": {},
     "output_type": "execute_result"
    }
   ],
   "source": [
    "# now lets deal with null values for numeric data\n",
    "cleaned = null_remover(\"drop_cols\",numeric_data,get_null_fields(numeric_data)[1])\n",
    "print(cleaned.isnull().any())\n",
    "cleaned.shape\n"
   ]
  },
  {
   "cell_type": "code",
   "execution_count": 125,
   "metadata": {},
   "outputs": [
    {
     "name": "stdout",
     "output_type": "stream",
     "text": [
      "Dropped 7 rows from dataset\n",
      "...................\n",
      "AGE      False\n",
      "FPG      False\n",
      "HbA1c    False\n",
      "BMI      False\n",
      "dtype: bool\n"
     ]
    },
    {
     "data": {
      "text/plain": [
       "(3408, 4)"
      ]
     },
     "execution_count": 125,
     "metadata": {},
     "output_type": "execute_result"
    }
   ],
   "source": [
    "# now lets deal with null values\n",
    "cleaned = null_remover(\"drop_rows\",numeric_data)\n",
    "print(cleaned.isnull().any())\n",
    "cleaned.shape\n"
   ]
  },
  {
   "cell_type": "code",
   "execution_count": 81,
   "metadata": {},
   "outputs": [
    {
     "data": {
      "text/html": [
       "<div>\n",
       "<style scoped>\n",
       "    .dataframe tbody tr th:only-of-type {\n",
       "        vertical-align: middle;\n",
       "    }\n",
       "\n",
       "    .dataframe tbody tr th {\n",
       "        vertical-align: top;\n",
       "    }\n",
       "\n",
       "    .dataframe thead th {\n",
       "        text-align: right;\n",
       "    }\n",
       "</style>\n",
       "<table border=\"1\" class=\"dataframe\">\n",
       "  <thead>\n",
       "    <tr style=\"text-align: right;\">\n",
       "      <th></th>\n",
       "      <th>Gender</th>\n",
       "      <th>Noctouria</th>\n",
       "      <th>Polyuria</th>\n",
       "      <th>Weight_loss</th>\n",
       "      <th>Vomiting</th>\n",
       "      <th>Nausea</th>\n",
       "      <th>Polydipsia</th>\n",
       "      <th>Polyphagia</th>\n",
       "      <th>Headache</th>\n",
       "      <th>Outcome</th>\n",
       "    </tr>\n",
       "  </thead>\n",
       "  <tbody>\n",
       "    <tr>\n",
       "      <th>0</th>\n",
       "      <td>F</td>\n",
       "      <td>True</td>\n",
       "      <td>True</td>\n",
       "      <td>True</td>\n",
       "      <td>False</td>\n",
       "      <td>False</td>\n",
       "      <td>False</td>\n",
       "      <td>False</td>\n",
       "      <td>False</td>\n",
       "      <td>positive</td>\n",
       "    </tr>\n",
       "    <tr>\n",
       "      <th>1</th>\n",
       "      <td>M</td>\n",
       "      <td>False</td>\n",
       "      <td>False</td>\n",
       "      <td>False</td>\n",
       "      <td>False</td>\n",
       "      <td>False</td>\n",
       "      <td>False</td>\n",
       "      <td>False</td>\n",
       "      <td>False</td>\n",
       "      <td>positive</td>\n",
       "    </tr>\n",
       "    <tr>\n",
       "      <th>2</th>\n",
       "      <td>F</td>\n",
       "      <td>False</td>\n",
       "      <td>False</td>\n",
       "      <td>False</td>\n",
       "      <td>False</td>\n",
       "      <td>False</td>\n",
       "      <td>False</td>\n",
       "      <td>False</td>\n",
       "      <td>False</td>\n",
       "      <td>negative</td>\n",
       "    </tr>\n",
       "    <tr>\n",
       "      <th>3</th>\n",
       "      <td>F</td>\n",
       "      <td>False</td>\n",
       "      <td>False</td>\n",
       "      <td>False</td>\n",
       "      <td>False</td>\n",
       "      <td>False</td>\n",
       "      <td>False</td>\n",
       "      <td>False</td>\n",
       "      <td>False</td>\n",
       "      <td>positive</td>\n",
       "    </tr>\n",
       "    <tr>\n",
       "      <th>4</th>\n",
       "      <td>M</td>\n",
       "      <td>False</td>\n",
       "      <td>False</td>\n",
       "      <td>False</td>\n",
       "      <td>False</td>\n",
       "      <td>False</td>\n",
       "      <td>False</td>\n",
       "      <td>False</td>\n",
       "      <td>False</td>\n",
       "      <td>negative</td>\n",
       "    </tr>\n",
       "  </tbody>\n",
       "</table>\n",
       "</div>"
      ],
      "text/plain": [
       "  Gender  Noctouria  Polyuria  Weight_loss  Vomiting  Nausea  Polydipsia  \\\n",
       "0      F       True      True         True     False   False       False   \n",
       "1      M      False     False        False     False   False       False   \n",
       "2      F      False     False        False     False   False       False   \n",
       "3      F      False     False        False     False   False       False   \n",
       "4      M      False     False        False     False   False       False   \n",
       "\n",
       "   Polyphagia  Headache   Outcome  \n",
       "0       False     False  positive  \n",
       "1       False     False  positive  \n",
       "2       False     False  negative  \n",
       "3       False     False  positive  \n",
       "4       False     False  negative  "
      ]
     },
     "execution_count": 81,
     "metadata": {},
     "output_type": "execute_result"
    }
   ],
   "source": [
    "categorical_data = data.select_dtypes(exclude=['int64','float64'])\n",
    "categorical_data.head()"
   ]
  },
  {
   "cell_type": "markdown",
   "metadata": {},
   "source": [
    "# Describe categorical data"
   ]
  },
  {
   "cell_type": "code",
   "execution_count": 95,
   "metadata": {},
   "outputs": [
    {
     "data": {
      "text/html": [
       "<div>\n",
       "<style scoped>\n",
       "    .dataframe tbody tr th:only-of-type {\n",
       "        vertical-align: middle;\n",
       "    }\n",
       "\n",
       "    .dataframe tbody tr th {\n",
       "        vertical-align: top;\n",
       "    }\n",
       "\n",
       "    .dataframe thead th {\n",
       "        text-align: right;\n",
       "    }\n",
       "</style>\n",
       "<table border=\"1\" class=\"dataframe\">\n",
       "  <thead>\n",
       "    <tr style=\"text-align: right;\">\n",
       "      <th></th>\n",
       "      <th>Gender</th>\n",
       "      <th>Noctouria</th>\n",
       "      <th>Polyuria</th>\n",
       "      <th>Weight_loss</th>\n",
       "      <th>Vomiting</th>\n",
       "      <th>Nausea</th>\n",
       "      <th>Polydipsia</th>\n",
       "      <th>Polyphagia</th>\n",
       "      <th>Headache</th>\n",
       "      <th>Outcome</th>\n",
       "    </tr>\n",
       "  </thead>\n",
       "  <tbody>\n",
       "    <tr>\n",
       "      <th>count</th>\n",
       "      <td>3414</td>\n",
       "      <td>3415</td>\n",
       "      <td>3415</td>\n",
       "      <td>3415</td>\n",
       "      <td>3415</td>\n",
       "      <td>3415</td>\n",
       "      <td>3415</td>\n",
       "      <td>3415</td>\n",
       "      <td>3415</td>\n",
       "      <td>3415</td>\n",
       "    </tr>\n",
       "    <tr>\n",
       "      <th>unique</th>\n",
       "      <td>2</td>\n",
       "      <td>2</td>\n",
       "      <td>2</td>\n",
       "      <td>2</td>\n",
       "      <td>2</td>\n",
       "      <td>2</td>\n",
       "      <td>2</td>\n",
       "      <td>2</td>\n",
       "      <td>2</td>\n",
       "      <td>2</td>\n",
       "    </tr>\n",
       "    <tr>\n",
       "      <th>top</th>\n",
       "      <td>M</td>\n",
       "      <td>True</td>\n",
       "      <td>True</td>\n",
       "      <td>True</td>\n",
       "      <td>False</td>\n",
       "      <td>False</td>\n",
       "      <td>False</td>\n",
       "      <td>False</td>\n",
       "      <td>False</td>\n",
       "      <td>positive</td>\n",
       "    </tr>\n",
       "    <tr>\n",
       "      <th>freq</th>\n",
       "      <td>1822</td>\n",
       "      <td>1846</td>\n",
       "      <td>1846</td>\n",
       "      <td>1846</td>\n",
       "      <td>3413</td>\n",
       "      <td>3413</td>\n",
       "      <td>3414</td>\n",
       "      <td>3414</td>\n",
       "      <td>3413</td>\n",
       "      <td>2239</td>\n",
       "    </tr>\n",
       "  </tbody>\n",
       "</table>\n",
       "</div>"
      ],
      "text/plain": [
       "       Gender Noctouria Polyuria Weight_loss Vomiting Nausea Polydipsia  \\\n",
       "count    3414      3415     3415        3415     3415   3415       3415   \n",
       "unique      2         2        2           2        2      2          2   \n",
       "top         M      True     True        True    False  False      False   \n",
       "freq     1822      1846     1846        1846     3413   3413       3414   \n",
       "\n",
       "       Polyphagia Headache   Outcome  \n",
       "count        3415     3415      3415  \n",
       "unique          2        2         2  \n",
       "top         False    False  positive  \n",
       "freq         3414     3413      2239  "
      ]
     },
     "execution_count": 95,
     "metadata": {},
     "output_type": "execute_result"
    }
   ],
   "source": [
    "categorical_data.describe()"
   ]
  },
  {
   "cell_type": "code",
   "execution_count": 109,
   "metadata": {},
   "outputs": [
    {
     "name": "stdout",
     "output_type": "stream",
     "text": [
      "dataset has null numeric values\n",
      "........\n",
      "summary\n",
      "...................\n",
      "Gender    0.029283\n",
      "dtype: float64\n",
      "...................\n",
      "...................\n",
      "Possible actions to take :\n",
      "            1. Drop rows with any missing values\n",
      "            2. Drop columns with miissing values\n",
      "            3. Inpute missing data\n",
      "            \n"
     ]
    },
    {
     "name": "stderr",
     "output_type": "stream",
     "text": [
      "/var/folders/1g/f8q40hm92l30jzph0wdckn8h0000gn/T/ipykernel_21483/1344933681.py:10: FutureWarning: Setting an item of incompatible dtype is deprecated and will raise in a future error of pandas. Value '0.029282576866764276' has dtype incompatible with int64, please explicitly cast to a compatible dtype first.\n",
      "  null_fields[col] = null_fields[col]*100/len(data[col])\n"
     ]
    }
   ],
   "source": [
    "# Get null stats for categorical data\n",
    "categorical_data_null_stats = get_null_stats(categorical_data)\n",
    "\n",
    "print_summary(categorical_data_null_stats)\n"
   ]
  },
  {
   "cell_type": "code",
   "execution_count": 110,
   "metadata": {},
   "outputs": [
    {
     "name": "stdout",
     "output_type": "stream",
     "text": [
      "dataset has null numeric values\n",
      "........\n",
      "summary\n",
      "...................\n",
      "Gender    0.029283\n",
      "BMI       0.204978\n",
      "dtype: float64\n",
      "...................\n",
      "...................\n",
      "Possible actions to take :\n",
      "            1. Drop rows with any missing values\n",
      "            2. Drop columns with miissing values\n",
      "            3. Inpute missing data\n",
      "            \n"
     ]
    },
    {
     "name": "stderr",
     "output_type": "stream",
     "text": [
      "/var/folders/1g/f8q40hm92l30jzph0wdckn8h0000gn/T/ipykernel_21483/1344933681.py:10: FutureWarning: Setting an item of incompatible dtype is deprecated and will raise in a future error of pandas. Value '0.029282576866764276' has dtype incompatible with int64, please explicitly cast to a compatible dtype first.\n",
      "  null_fields[col] = null_fields[col]*100/len(data[col])\n"
     ]
    }
   ],
   "source": [
    "# Get null stats for whole dataset\n",
    "\n",
    "data_null_stats = get_null_stats(data)\n",
    "\n",
    "print_summary(data_null_stats)"
   ]
  }
 ],
 "metadata": {
  "kernelspec": {
   "display_name": "opencv-env",
   "language": "python",
   "name": "python3"
  },
  "language_info": {
   "codemirror_mode": {
    "name": "ipython",
    "version": 3
   },
   "file_extension": ".py",
   "mimetype": "text/x-python",
   "name": "python",
   "nbconvert_exporter": "python",
   "pygments_lexer": "ipython3",
   "version": "3.11.5"
  },
  "orig_nbformat": 4
 },
 "nbformat": 4,
 "nbformat_minor": 2
}
